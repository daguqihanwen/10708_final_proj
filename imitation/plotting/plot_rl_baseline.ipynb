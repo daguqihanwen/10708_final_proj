{
 "cells": [
  {
   "cell_type": "code",
   "execution_count": 1,
   "metadata": {
    "collapsed": true
   },
   "outputs": [
    {
     "name": "stdout",
     "output_type": "stream",
     "text": [
      "/home/xingyu/Projects/PlasticineLab\n",
      "['data/autobot/0827_td3']\n",
      "finished walking exp folders\n",
      "Reading data/autobot/0827_td3/progress.csv\n",
      "[Errno 2] No such file or directory: 'data/autobot/0827_td3/progress.csv'\n",
      "Reading data/autobot/0827_td3/0827_td3/progress.csv\n",
      "[Errno 2] No such file or directory: 'data/autobot/0827_td3/0827_td3/progress.csv'\n",
      "Reading data/autobot/0827_td3/0827_td3/0827_td3_2021_08_30_22_23_48_0005/progress.csv\n",
      "Reading data/autobot/0827_td3/0827_td3/0827_td3_2021_08_30_22_23_48_0001/progress.csv\n",
      "Reading data/autobot/0827_td3/0827_td3/0827_td3_2021_08_30_22_23_48_0017/progress.csv\n",
      "[Errno 2] No such file or directory: 'data/autobot/0827_td3/0827_td3/0827_td3_2021_08_30_22_23_48_0017/progress.csv'\n",
      "Reading data/autobot/0827_td3/0827_td3/0827_td3_2021_08_30_22_23_48_0002/progress.csv\n",
      "Reading data/autobot/0827_td3/0827_td3/0827_td3_2021_08_30_22_23_48_0010/progress.csv\n",
      "Reading data/autobot/0827_td3/0827_td3/0827_td3_2021_08_30_22_23_48_0008/progress.csv\n",
      "Reading data/autobot/0827_td3/0827_td3/0827_td3_2021_08_30_22_23_48_0014/progress.csv\n",
      "[Errno 2] No such file or directory: 'data/autobot/0827_td3/0827_td3/0827_td3_2021_08_30_22_23_48_0014/progress.csv'\n",
      "Reading data/autobot/0827_td3/0827_td3/0827_td3_2021_08_30_22_23_48_0009/progress.csv\n",
      "Reading data/autobot/0827_td3/0827_td3/0827_td3_2021_08_30_22_23_48_0007/progress.csv\n",
      "Reading data/autobot/0827_td3/0827_td3/0827_td3_2021_08_30_22_23_48_0011/progress.csv\n",
      "Reading data/autobot/0827_td3/0827_td3/0827_td3_2021_08_30_22_23_48_0003/progress.csv\n",
      "Reading data/autobot/0827_td3/0827_td3/0827_td3_2021_08_30_22_23_48_0012/progress.csv\n",
      "Reading data/autobot/0827_td3/0827_td3/0827_td3_2021_08_30_22_23_48_0018/progress.csv\n",
      "[Errno 2] No such file or directory: 'data/autobot/0827_td3/0827_td3/0827_td3_2021_08_30_22_23_48_0018/progress.csv'\n",
      "Reading data/autobot/0827_td3/0827_td3/0827_td3_2021_08_30_22_23_48_0015/progress.csv\n",
      "[Errno 2] No such file or directory: 'data/autobot/0827_td3/0827_td3/0827_td3_2021_08_30_22_23_48_0015/progress.csv'\n",
      "Reading data/autobot/0827_td3/0827_td3/0827_td3_2021_08_30_22_23_48_0004/progress.csv\n",
      "Reading data/autobot/0827_td3/0827_td3/0827_td3_2021_08_30_22_23_48_0013/progress.csv\n",
      "Reading data/autobot/0827_td3/0827_td3/0827_td3_2021_08_30_22_23_48_0006/progress.csv\n",
      "Reading data/autobot/0827_td3/0827_td3/0827_td3_2021_08_30_22_23_48_0016/progress.csv\n",
      "[Errno 2] No such file or directory: 'data/autobot/0827_td3/0827_td3/0827_td3_2021_08_30_22_23_48_0016/progress.csv'\n"
     ]
    }
   ],
   "source": [
    "%load_ext autoreload\n",
    "%autoreload 2\n",
    "%cd '/home/xingyu/Projects/PlasticineLab'\n",
    "%pwd\n",
    "\n",
    "\n",
    "from chester.plotting.cplot import *\n",
    "from chester.plotting.cplot import *\n",
    "data_paths = ['data/autobot/0827_td3']\n",
    "\n",
    "exps_data, plottable_keys, distinct_params = reload_data(data_paths)"
   ]
  },
  {
   "cell_type": "code",
   "execution_count": 16,
   "outputs": [
    {
     "name": "stdout",
     "output_type": "stream",
     "text": [
      "here\n",
      "roll only [0.05625193989059577, 0.07591478992253542, 0.05772685604946067, 0.18499078679208955] [0.00920205 0.00308583 0.0033124  0.14043753]\n",
      "push only [0.06330266307728986, 0.06911670428235084, 0.06823425740003586, 0.07940801978111267] [0.01522727 0.00289354 0.00196409 0.01118649]\n"
     ]
    },
    {
     "data": {
      "text/plain": "<Figure size 360x360 with 1 Axes>",
      "image/png": "[encoded data removed]"
     },
     "metadata": {
      "needs_background": "light"
     },
     "output_type": "display_data"
    }
   ],
   "source": [
    "import matplotlib.pyplot as plt\n",
    "%matplotlib inline\n",
    "\n",
    "def custom_series_splitter(x):\n",
    "    params = x['flat_params']\n",
    "\n",
    "    emd_downsample_num = params['emd_downsample_num']\n",
    "    action_mask = params['action_mask']\n",
    "    if emd_downsample_num != 1000:\n",
    "        return 'filtered'\n",
    "    if action_mask[0] ==0 and action_mask[1] == 1:\n",
    "        return 'roll only'\n",
    "    if action_mask[0] ==1 and action_mask[1] == 0:\n",
    "        return 'push only'\n",
    "    if action_mask[0] ==1 and action_mask[1] == 1:\n",
    "        return 'filtered'\n",
    "\n",
    "group_selectors, group_legends = get_group_selectors(exps_data, custom_series_splitter)\n",
    "print('here')\n",
    "\n",
    "keys = ['eval/final_emd']\n",
    "fig = plt.figure(figsize=(5,5))\n",
    "for idx, (selector, legend) in enumerate(zip(group_selectors, group_legends)):\n",
    "    if legend == 'filtered':\n",
    "        continue\n",
    "    for key in keys:\n",
    "        y, y_lower, y_upper = get_shaded_curve(selector, key)\n",
    "        print(legend, y[-4:], np.array(y_upper[-4:]) - np.array(y[-4:]))\n",
    "        plt.plot(list(range(len(y))), y, label=legend)\n",
    "# plt.ylim(0, 0.05)\n",
    "plt.yscale('log')\n",
    "plt.tight_layout()\n",
    "plt.legend(bbox_to_anchor=(1.05, 1), loc='upper left')\n",
    "plt.savefig('./data/plots/0827_td3.png', bbox_inches=\"tight\")\n",
    "plt.show()"
   ],
   "metadata": {
    "collapsed": false,
    "pycharm": {
     "name": "#%%\n"
    }
   }
  }
 ],
 "metadata": {
  "kernelspec": {
   "display_name": "Python 3",
   "language": "python",
   "name": "python3"
  },
  "language_info": {
   "codemirror_mode": {
    "name": "ipython",
    "version": 2
   },
   "file_extension": ".py",
   "mimetype": "text/x-python",
   "name": "python",
   "nbconvert_exporter": "python",
   "pygments_lexer": "ipython2",
   "version": "2.7.6"
  }
 },
 "nbformat": 4,
 "nbformat_minor": 0
}