{
 "cells": [
  {
   "cell_type": "code",
   "execution_count": 13,
   "metadata": {},
   "outputs": [
    {
     "name": "stdout",
     "output_type": "stream",
     "text": [
      "The autoreload extension is already loaded. To reload it, use:\n",
      "  %reload_ext autoreload\n",
      "/home/xingyu/Projects/PlasticineLab\n",
      "Building primitive\n",
      "action:\n",
      "  dim: 6\n",
      "  scale: (0.7, 0.005, 0.005, 0.005, 0.0, 0.0)\n",
      "color: (0.8, 0.8, 0.8)\n",
      "friction: 0.9\n",
      "h: 0.3\n",
      "init_pos: (0.55, 0.2, 0.5)\n",
      "init_rot: (0.707, 0.707, 0.0, 0.0)\n",
      "lower_bound: (0.0, 0.09, 0.0)\n",
      "r: 0.03\n",
      "shape: RollingPinExt\n",
      "upper_bound: (1.0, 1.0, 1.0)\n",
      "variations: None\n",
      "Building primitive\n",
      "action:\n",
      "  dim: 6\n",
      "  scale: (0.015, 0.0, 0.0, 0.0, 0.0, 0.0)\n",
      "color: (0.8, 0.8, 0.8)\n",
      "friction: 0.9\n",
      "init_pos: (0.7, 0.1, 0.5)\n",
      "init_rot: (0.707, 0.707, 0.0, 0.0)\n",
      "lower_bound: (0.0, 0.0, 0.0)\n",
      "shape: Box\n",
      "size: (0.015, 0.15, 0.1)\n",
      "upper_bound: (1.0, 1.0, 1.0)\n",
      "variations: None\n",
      "{'init_pos': (0.5, 0.03576, 0.5), 'width': (0.2, 0.03575, 0.2), 'color': 100}\n",
      "Initialize Renderer\n",
      "bake_size: 6  \n",
      "camera_pos: (0.5, 0.4, 1.9)  \n",
      "camera_rot: (0.2, 0.0)  \n",
      "dx: 0.006666666666666667  \n",
      "image_res: (64, 64)  \n",
      "light_direction: (0.0, 1.0, 1.0)  \n",
      "max_num_particles: 1000000  \n",
      "max_ray_depth: 2  \n",
      "sdf_threshold: 0.20720000000000002  \n",
      "spp: 50  \n",
      "target_res: (64, 64, 64)  \n",
      "use_directional_light: True  \n",
      "use_roulette: False  \n",
      "voxel_res: (168, 168, 168)\n",
      "{'init_pos': (0.5, 0.03576, 0.5), 'width': (0.2, 0.03575, 0.2), 'color': 100}\n",
      "initialize: [0.5 0.4 1.9] [0.2 0. ]\n",
      "Version None. Skip target path\n",
      "{'init_pos': (0.5, 0.03576, 0.5), 'width': (0.2, 0.03575, 0.2), 'color': 100}\n",
      "initialize: [0.5 0.4 1.9] [0.2 0. ]\n",
      "class Agent: obs_shape:  (64, 64, 8)\n"
     ]
    }
   ],
   "source": [
    "%load_ext autoreload\n",
    "%autoreload 2\n",
    "%cd '/home/xingyu/Projects/PlasticineLab'\n",
    "%pwd\n",
    "\n",
    "import os\n",
    "os.environ[\"CUDA_VISIBLE_DEVICES\"]=\"1\"\n",
    "import numpy as np\n",
    "from imitation.agent import Agent, sample_traj\n",
    "from plb.envs import make\n",
    "from imitation.train import get_args\n",
    "from plb.engine.taichi_env import TaichiEnv\n",
    "from plb.optimizer.solver import Solver\n",
    "from plb.algorithms.logger import Logger\n",
    "\n",
    "device = 'cuda'\n",
    "\n",
    "log_dir = './data/connect'\n",
    "args = get_args(\"\")\n",
    "\n",
    "obs_channel = len(args.img_mode)\n",
    "img_obs_shape = (args.image_dim, args.image_dim, obs_channel)\n",
    "\n",
    "env = make(args.env_name, nn=(args.algo == 'nn'), sdf_loss=args.sdf_loss,\n",
    "           density_loss=args.density_loss, contact_loss=args.contact_loss,\n",
    "           soft_contact_loss=args.soft_contact_loss, chamfer_loss=args.chamfer_loss)\n",
    "env.seed(args.seed)\n",
    "taichi_env: TaichiEnv = env.unwrapped.taichi_env\n",
    "T = env._max_episode_steps\n",
    "action_dim = taichi_env.primitives.action_dim\n",
    "\n",
    "plb_logger = Logger(log_dir)\n",
    "solver = Solver(taichi_env, plb_logger, None,\n",
    "                n_iters=(args.gd_num_steps + T - 1) // T, softness=args.softness, horizon=T,\n",
    "                **{\"optim.lr\": args.lr, \"optim.type\": args.optim, \"init_range\": 0.0001})\n",
    "agent = Agent(args, solver, img_obs_shape, action_dim, num_tools=2, device=device)\n",
    "\n",
    "from imitation.utils import load_target_info\n",
    "\n",
    "target_info = load_target_info(args, device)\n",
    "np_target_imgs, target_imgs, np_target_mass_grids = target_info['np_target_imgs'], target_info['target_imgs'], target_info['np_target_mass_grids']"
   ]
  },
  {
   "cell_type": "code",
   "execution_count": null,
   "metadata": {
    "pycharm": {
     "name": "#%%\n"
    }
   },
   "outputs": [],
   "source": [
    "# Temp test\n",
    "\n",
    "# render_kwargs = {'mode': 'rgb', 'target': False}\n",
    "# obs = taichi_env.render(**render_kwargs)\n",
    "# obs2 = taichi_env.render(**render_kwargs)\n",
    "# import matplotlib.pyplot as plt\n",
    "# error = np.abs(obs[:, :, 3] -obs2[:, :, 3])\n",
    "# print(np.max(error))\n",
    "# print(np.min(obs[:, :, 3]), np.max(obs[:, :, 3]))\n",
    "# plt.imshow(error[:, :])\n",
    "# plt.colorbar()"
   ]
  },
  {
   "cell_type": "code",
   "execution_count": 14,
   "metadata": {
    "pycharm": {
     "name": "#%%\n"
    }
   },
   "outputs": [
    {
     "name": "stdout",
     "output_type": "stream",
     "text": [
      "bin succ: False\n",
      "class Agent: obs_shape:  (64, 64, 8)\n",
      "Agent loaded from data/autobot/0807_PushSpread_fea/0807_PushSpread_fea/0807_PushSpread_fea_2021_08_07_17_20_51_0001/agent_30.ckpt\n"
     ]
    }
   ],
   "source": [
    "import torch\n",
    "import matplotlib.pyplot as plt\n",
    "from imitation.utils import img_to_np, write_number, img_to_tensor\n",
    "from plb.utils.visualization_utils import make_grid, save_rgb\n",
    "import os.path as osp\n",
    "import sys\n",
    "import json\n",
    "\n",
    "sys.path.insert(0, '/home/xingyu/Projects/PlasticineLab/')\n",
    "\n",
    "# Trained on hindsight goals\n",
    "# agent_path = 'data/local/0629_PushSpread_train_fea/0629_PushSpread_train_fea_2021_07_01_11_34_12_0001/agent_350.ckpt'\n",
    "# Trained on real goals\n",
    "# agent_path = 'data/autobot/0805_PushSpread_fea/0805_PushSpread_fea/0805_PushSpread_fea_2021_08_05_16_50_05_0002/agent_50.ckpt'\n",
    "# agent_path = 'data/autobot/0805_PushSpread_fea/0805_PushSpread_fea/0805_PushSpread_fea_2021_08_05_16_50_05_0002/agent_50.ckpt'\n",
    "agent_path = 'data/autobot/0807_PushSpread_fea/0807_PushSpread_fea/0807_PushSpread_fea_2021_08_07_17_20_51_0001/agent_30.ckpt'\n",
    "vv_path = osp.join(osp.dirname(agent_path), 'variant.json')\n",
    "with open(vv_path, 'rb') as f:\n",
    "    agent_vv = json.load(f)\n",
    "args.__dict__.update(**agent_vv)\n",
    "print('bin succ:', args.bin_succ)\n",
    "agent = Agent(args, solver, img_obs_shape, action_dim, num_tools=2, device=device)\n",
    "agent.feas.eval()\n",
    "agent.load(agent_path)\n",
    "taichi_env.loss.set_target_update(False)\n",
    "\n",
    "# actor_agent_path = 'data/autobot/0802_PushSpread_train_policy/0802_PushSpread_train_policy/0802_PushSpread_train_policy_2021_08_02_15_28_30_0001/agent_1800.ckpt'\n",
    "# agent.load_actor(actor_agent_path)\n",
    "# agent_dataset = './data/autobot/0718_PushSpread_train_fea/0718_PushSpread_train_fea/0718_PushSpread_train_fea_2021_07_20_11_34_11_0001/agent_dataset.gz'\n",
    "from imitation.buffer import ReplayBuffer\n",
    "\n",
    "buffer = ReplayBuffer()\n",
    "# buffer.load(agent_dataset)"
   ]
  },
  {
   "cell_type": "code",
   "execution_count": null,
   "metadata": {
    "pycharm": {
     "name": "#%%\n"
    }
   },
   "outputs": [],
   "source": [
    "# traj_id = 77\n",
    "# horizon = 50\n",
    "# action_mask = buffer.buffer['action_mask'][traj_id * horizon]\n",
    "# print('action mask:', action_mask)\n",
    "# print(buffer.get_tid(action_mask))\n",
    "# idx = traj_id * horizon\n",
    "# optimal_step = buffer.get_optimal_step().flatten()\n",
    "# max_step = optimal_step[idx]\n",
    "# print('optimal:', buffer.buffer['target_ious'][traj_id * horizon + max_step])\n",
    "#\n",
    "# init_v, target_v = buffer.buffer['init_v'][idx][0], buffer.buffer['target_v'][idx][0]\n",
    "# print('init_v: {}, target_v: {}'.format(init_v, target_v))\n",
    "# ious = buffer.buffer['target_ious'][idx:idx + horizon]\n",
    "# # print('max:', np.argmax(buffer.buffer['target_ious'][:buffer.cur_size]))\n",
    "# action_mask = buffer.buffer['action_mask'][idx]\n",
    "# obs = buffer.buffer['obses'][idx]\n",
    "# tensor_obs = img_to_tensor(np.array(obs[None]), args.img_mode).to(device)\n",
    "# tid = buffer.get_tid(action_mask)\n",
    "# print(tensor_obs.shape, target_imgs[target_v].shape)\n",
    "# with torch.no_grad():\n",
    "#     pred_iou = agent.fea_pred(tensor_obs, target_imgs[target_v][None], tid)[0].item()\n",
    "#\n",
    "# print('gt_ious:', ious)\n",
    "# print('pred_iou:', pred_iou)"
   ]
  },
  {
   "cell_type": "code",
   "execution_count": null,
   "metadata": {
    "pycharm": {
     "name": "#%%\n"
    }
   },
   "outputs": [],
   "source": [
    "# imgs = []\n",
    "# feas = []\n",
    "# from imitation.test_trajectories import test_init_v, test_target_v\n",
    "#\n",
    "# test_init_v = np.array([95, 95, 95, 91, 91, 91, 80])\n",
    "# test_target_v = np.array([25, 195, 128, 21, 191, 128, 20])\n",
    "#\n",
    "# ## Training set\n",
    "# # test_init_v = np.array([80, 90, 70, 85, 81, 95, 65])\n",
    "# # test_target_v = np.array([20, 30, 10, 25, 21, 25, 25])\n",
    "#\n",
    "# for tid in [0, 1]:  # TODO Reverse the order for now . Remove this after using 0722 agent dataset\n",
    "#     for (init_v, target_v) in zip(test_init_v, test_target_v):\n",
    "#         env.reset(init_v=init_v, target_v=target_v)\n",
    "#\n",
    "#         render_kwargs = {'mode': 'rgb', 'target': False}\n",
    "#         obs = taichi_env.render(**render_kwargs)\n",
    "#         tensor_obs = img_to_tensor(np.array(obs[None]), args.img_mode).to(device)\n",
    "#         with torch.no_grad():\n",
    "#             iou = agent.fea_pred(tensor_obs, target_imgs[target_v][None], tid)[0].item()\n",
    "#         img = obs * 0.7 + np_target_imgs[target_v] * 0.3\n",
    "#         imgs.append(img)\n",
    "#         feas.append(iou)\n",
    "#\n",
    "# for img, fea in zip(imgs, feas):\n",
    "#     write_number(img, fea)\n",
    "# grid_img = make_grid(np.array(imgs), ncol=len(imgs) // 2, padding=3, pad_value=0.5)\n",
    "# save_rgb(osp.join(log_dir, 'one_step.png'), grid_img)"
   ]
  },
  {
   "cell_type": "code",
   "execution_count": 15,
   "metadata": {
    "pycharm": {
     "name": "#%%\n"
    }
   },
   "outputs": [],
   "source": [
    "import json\n",
    "from imitation.encoder.vae import VAE\n",
    "\n",
    "vae_dir = 'data/autobot/0729_vae/0729_vae/0729_vae_2021_07_29_20_03_08_0006/'\n",
    "vae_path = osp.join(vae_dir, 'encoder_95.pth')\n",
    "vae_vv_path = osp.join(vae_dir, 'variant.json')\n",
    "with open(vae_vv_path, 'r') as f:\n",
    "    vae_vv = json.load(f)\n",
    "vae = VAE(4)\n",
    "vae.load_state_dict(torch.load(vae_path))\n",
    "vae = vae.cuda()"
   ]
  },
  {
   "cell_type": "code",
   "execution_count": 19,
   "metadata": {
    "pycharm": {
     "name": "#%%\n"
    }
   },
   "outputs": [
    {
     "name": "stdout",
     "output_type": "stream",
     "text": [
      "{'init_pos': (0.5, 0.03576, 0.5), 'width': (0.2, 0.03575, 0.2), 'color': 100}\n",
      "initialize: [0.5 0.4 1.9] [0.2 0. ]\n",
      "iter: 0\n",
      "iter: 100\n",
      "iter: 200\n",
      "iter: 300\n",
      "iter: 400\n",
      "iter: 500\n",
      "iter: 600\n",
      "iter: 700\n",
      "iter: 800\n",
      "iter: 900\n",
      "iter: 1000\n",
      "iter: 1100\n",
      "iter: 1200\n",
      "iter: 1300\n",
      "iter: 1400\n",
      "iter: 1500\n",
      "iter: 1600\n",
      "iter: 1700\n",
      "iter: 1800\n",
      "iter: 1900\n",
      "iter: 2000\n",
      "iter: 2100\n",
      "iter: 2200\n",
      "iter: 2300\n",
      "iter: 2400\n",
      "iter: 2500\n",
      "iter: 2600\n",
      "iter: 2700\n",
      "iter: 2800\n",
      "iter: 2900\n",
      "{'init_pos': (0.5, 0.03576, 0.5), 'width': (0.2, 0.03575, 0.2), 'color': 100}\n",
      "initialize: [0.5 0.4 1.9] [0.2 0. ]\n",
      "MoviePy - Building file ./data/connect/adam/execute_2.gif with imageio.\n"
     ]
    },
    {
     "name": "stderr",
     "output_type": "stream",
     "text": [
      "                                                             \r"
     ]
    }
   ],
   "source": [
    "import os\n",
    "\n",
    "execute = True\n",
    "from imitation.compose_skills import plan, visualize_all_traj\n",
    "from imitation.compose_skills import execute\n",
    "from imitation.compose_skills import visualize_adam_info, visualize_mgoal\n",
    "\n",
    "opt_mode = 'adam'  # ['search', 'sample', 'adam']\n",
    "save_path = f'./data/connect/{opt_mode}'\n",
    "if not os.path.exists(save_path):\n",
    "    os.mkdir(save_path)\n",
    "\n",
    "test_init_v = np.array([95, 95, 95, 91, 91, 91, 80])\n",
    "test_target_v = np.array([25, 195, 128, 21, 191, 128, 20])\n",
    "\n",
    "opt_args = {}\n",
    "if opt_mode == 'search':\n",
    "    opt_args['mid_goals'] = np_target_imgs[test_target_v]\n",
    "elif opt_mode == 'sample':\n",
    "    opt_args['num_sample'] = 10000\n",
    "    opt_args['vae'] = vae\n",
    "elif opt_mode == 'adam':\n",
    "    opt_args['adam_sample'] = 400\n",
    "    opt_args['adam_iter'] = 3000\n",
    "    opt_args['adam_lr'] = 5e-2\n",
    "    opt_args['min_zlogl'] = float(-30)\n",
    "    opt_args['vae'] = vae\n",
    "    opt_args['save_goal_his'] = False\n",
    "for i, (init_v, target_v) in enumerate(zip(test_init_v, test_target_v)):\n",
    "    if i not in [2]:\n",
    "        continue\n",
    "    plan_info = {'env': env, 'init_v': init_v, 'target_v': target_v}\n",
    "    plan_info.update(**opt_args)\n",
    "    plan_info.update(**target_info)\n",
    "    best_traj, all_traj, traj_info = plan(agent, plan_info, opt_mode=opt_mode)\n",
    "    img, sorted_idxes = visualize_all_traj(all_traj, overlay=False)\n",
    "    save_grid_img = make_grid(img[:10], ncol=5, padding=5, pad_value=0.5)\n",
    "    save_rgb(osp.join(save_path, f'plan_{i}.png'), save_grid_img[:, :, :3])\n",
    "\n",
    "    execute_name = osp.join(save_path, f'execute_{i}.gif')\n",
    "    execute(env, agent, best_traj, target_info, execute_name)\n",
    "\n",
    "    if opt_mode == 'adam':\n",
    "        visualize_adam_info(traj_info, savename=osp.join(save_path, f'adam_{i}.png'), topk=8)\n",
    "        if 'goal_his' in traj_info:\n",
    "            goal_his = np.concatenate(traj_info['goal_his'], axis=1)  # traj_info goal his: [4 (list), 200, 10, img_dims]\n",
    "            goal_his = goal_his[:, sorted_idxes[:10]]\n",
    "            visualize_mgoal(goal_his, savename=osp.join(save_path, f'adam_{i}.gif'))"
   ]
  },
  {
   "cell_type": "code",
   "execution_count": 21,
   "metadata": {
    "pycharm": {
     "name": "#%%\n"
    }
   },
   "outputs": [
    {
     "name": "stdout",
     "output_type": "stream",
     "text": [
      "{'init_pos': (0.5, 0.03576, 0.5), 'width': (0.2, 0.03575, 0.2), 'color': 100}\n",
      "initialize: [0.5 0.4 1.9] [0.2 0. ]\n",
      "MoviePy - Building file ./data/connect/adam/execute_6_run_0.gif with imageio.\n"
     ]
    },
    {
     "name": "stderr",
     "output_type": "stream",
     "text": [
      "                                                             \r"
     ]
    },
    {
     "name": "stdout",
     "output_type": "stream",
     "text": [
      "{'init_pos': (0.5, 0.03576, 0.5), 'width': (0.2, 0.03575, 0.2), 'color': 100}\n",
      "initialize: [0.5 0.4 1.9] [0.2 0. ]\n",
      "MoviePy - Building file ./data/connect/adam/execute_6_run_1.gif with imageio.\n"
     ]
    },
    {
     "name": "stderr",
     "output_type": "stream",
     "text": [
      "                                                               \r"
     ]
    },
    {
     "name": "stdout",
     "output_type": "stream",
     "text": [
      "{'init_pos': (0.5, 0.03576, 0.5), 'width': (0.2, 0.03575, 0.2), 'color': 100}\n",
      "initialize: [0.5 0.4 1.9] [0.2 0. ]\n",
      "MoviePy - Building file ./data/connect/adam/execute_6_run_2.gif with imageio.\n"
     ]
    },
    {
     "name": "stderr",
     "output_type": "stream",
     "text": [
      "                                                               \r"
     ]
    },
    {
     "name": "stdout",
     "output_type": "stream",
     "text": [
      "{'init_pos': (0.5, 0.03576, 0.5), 'width': (0.2, 0.03575, 0.2), 'color': 100}\n",
      "initialize: [0.5 0.4 1.9] [0.2 0. ]\n",
      "MoviePy - Building file ./data/connect/adam/execute_6_run_3.gif with imageio.\n"
     ]
    },
    {
     "name": "stderr",
     "output_type": "stream",
     "text": [
      "                                                              \r"
     ]
    },
    {
     "name": "stdout",
     "output_type": "stream",
     "text": [
      "{'init_pos': (0.5, 0.03576, 0.5), 'width': (0.2, 0.03575, 0.2), 'color': 100}\n",
      "initialize: [0.5 0.4 1.9] [0.2 0. ]\n",
      "MoviePy - Building file ./data/connect/adam/execute_6_run_4.gif with imageio.\n"
     ]
    },
    {
     "name": "stderr",
     "output_type": "stream",
     "text": [
      "                                                             \r"
     ]
    }
   ],
   "source": [
    "for j in range(5):\n",
    "    execute_name = osp.join(save_path, f'execute_{i}_run_{j}.gif')\n",
    "    execute(env, agent, all_traj[j], target_info, execute_name)"
   ]
  },
  {
   "cell_type": "code",
   "execution_count": 42,
   "metadata": {
    "pycharm": {
     "name": "#%%\n"
    }
   },
   "outputs": [
    {
     "name": "stdout",
     "output_type": "stream",
     "text": [
      "4\n"
     ]
    },
    {
     "data": {
      "image/png": "[encoded data removed]",
      "text/plain": [
       "<matplotlib.figure.Figure at 0x7f5d8e49a9b0>"
      ]
     },
     "metadata": {
      "needs_background": "light"
     },
     "output_type": "display_data"
    }
   ],
   "source": [
    "plt.figure()\n",
    "b_imgs = best_traj['traj_img']\n",
    "print(len(b_imgs))\n",
    "plt.imshow(b_imgs[3][:,:, :3])\n",
    "plt.axis(\"off\")\n",
    "plt.tight_layout()\n",
    "plt.savefig('./test.png')\n"
   ]
  },
  {
   "cell_type": "code",
   "execution_count": null,
   "metadata": {
    "pycharm": {
     "name": "#%%\n"
    }
   },
   "outputs": [],
   "source": [
    "from imitation.test_trajectories import test_agent\n",
    "\n",
    "target_info = {'target_imgs': target_imgs,\n",
    "               'np_target_imgs': np_target_imgs,\n",
    "               'np_target_mass_grids': np_target_mass_grids}\n",
    "trajs = test_agent(env, agent, test_init_v, test_target_v, target_info, save_path='./data/connect/rollout.gif')\n",
    "print([traj['target_ious'][-1] for traj in trajs])"
   ]
  },
  {
   "cell_type": "code",
   "execution_count": null,
   "metadata": {
    "pycharm": {
     "name": "#%%\n"
    }
   },
   "outputs": [],
   "source": []
  }
 ],
 "metadata": {
  "kernelspec": {
   "display_name": "Python 3",
   "language": "python",
   "name": "python3"
  },
  "language_info": {
   "codemirror_mode": {
    "name": "ipython",
    "version": 3
   },
   "file_extension": ".py",
   "mimetype": "text/x-python",
   "name": "python",
   "nbconvert_exporter": "python",
   "pygments_lexer": "ipython3",
   "version": "3.8.5"
  }
 },
 "nbformat": 4,
 "nbformat_minor": 1
}